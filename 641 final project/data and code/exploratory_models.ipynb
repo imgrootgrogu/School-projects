{
  "cells": [
    {
      "cell_type": "code",
      "execution_count": null,
      "metadata": {
        "colab": {
          "base_uri": "https://localhost:8080/",
          "height": 321
        },
        "id": "bdNdP7wOPMvZ",
        "outputId": "ff35f936-3978-4bb4-f82d-60b25ee4b23e"
      },
      "outputs": [
        {
          "ename": "MessageError",
          "evalue": "Error: credential propagation was unsuccessful",
          "output_type": "error",
          "traceback": [
            "\u001b[0;31m---------------------------------------------------------------------------\u001b[0m",
            "\u001b[0;31mMessageError\u001b[0m                              Traceback (most recent call last)",
            "\u001b[0;32m<ipython-input-2-d5df0069828e>\u001b[0m in \u001b[0;36m<cell line: 2>\u001b[0;34m()\u001b[0m\n\u001b[1;32m      1\u001b[0m \u001b[0;32mfrom\u001b[0m \u001b[0mgoogle\u001b[0m\u001b[0;34m.\u001b[0m\u001b[0mcolab\u001b[0m \u001b[0;32mimport\u001b[0m \u001b[0mdrive\u001b[0m\u001b[0;34m\u001b[0m\u001b[0;34m\u001b[0m\u001b[0m\n\u001b[0;32m----> 2\u001b[0;31m \u001b[0mdrive\u001b[0m\u001b[0;34m.\u001b[0m\u001b[0mmount\u001b[0m\u001b[0;34m(\u001b[0m\u001b[0;34m'/content/drive'\u001b[0m\u001b[0;34m)\u001b[0m\u001b[0;34m\u001b[0m\u001b[0;34m\u001b[0m\u001b[0m\n\u001b[0m",
            "\u001b[0;32m/usr/local/lib/python3.10/dist-packages/google/colab/drive.py\u001b[0m in \u001b[0;36mmount\u001b[0;34m(mountpoint, force_remount, timeout_ms, readonly)\u001b[0m\n\u001b[1;32m     98\u001b[0m \u001b[0;32mdef\u001b[0m \u001b[0mmount\u001b[0m\u001b[0;34m(\u001b[0m\u001b[0mmountpoint\u001b[0m\u001b[0;34m,\u001b[0m \u001b[0mforce_remount\u001b[0m\u001b[0;34m=\u001b[0m\u001b[0;32mFalse\u001b[0m\u001b[0;34m,\u001b[0m \u001b[0mtimeout_ms\u001b[0m\u001b[0;34m=\u001b[0m\u001b[0;36m120000\u001b[0m\u001b[0;34m,\u001b[0m \u001b[0mreadonly\u001b[0m\u001b[0;34m=\u001b[0m\u001b[0;32mFalse\u001b[0m\u001b[0;34m)\u001b[0m\u001b[0;34m:\u001b[0m\u001b[0;34m\u001b[0m\u001b[0;34m\u001b[0m\u001b[0m\n\u001b[1;32m     99\u001b[0m   \u001b[0;34m\"\"\"Mount your Google Drive at the specified mountpoint path.\"\"\"\u001b[0m\u001b[0;34m\u001b[0m\u001b[0;34m\u001b[0m\u001b[0m\n\u001b[0;32m--> 100\u001b[0;31m   return _mount(\n\u001b[0m\u001b[1;32m    101\u001b[0m       \u001b[0mmountpoint\u001b[0m\u001b[0;34m,\u001b[0m\u001b[0;34m\u001b[0m\u001b[0;34m\u001b[0m\u001b[0m\n\u001b[1;32m    102\u001b[0m       \u001b[0mforce_remount\u001b[0m\u001b[0;34m=\u001b[0m\u001b[0mforce_remount\u001b[0m\u001b[0;34m,\u001b[0m\u001b[0;34m\u001b[0m\u001b[0;34m\u001b[0m\u001b[0m\n",
            "\u001b[0;32m/usr/local/lib/python3.10/dist-packages/google/colab/drive.py\u001b[0m in \u001b[0;36m_mount\u001b[0;34m(mountpoint, force_remount, timeout_ms, ephemeral, readonly)\u001b[0m\n\u001b[1;32m    131\u001b[0m   )\n\u001b[1;32m    132\u001b[0m   \u001b[0;32mif\u001b[0m \u001b[0mephemeral\u001b[0m\u001b[0;34m:\u001b[0m\u001b[0;34m\u001b[0m\u001b[0;34m\u001b[0m\u001b[0m\n\u001b[0;32m--> 133\u001b[0;31m     _message.blocking_request(\n\u001b[0m\u001b[1;32m    134\u001b[0m         \u001b[0;34m'request_auth'\u001b[0m\u001b[0;34m,\u001b[0m \u001b[0mrequest\u001b[0m\u001b[0;34m=\u001b[0m\u001b[0;34m{\u001b[0m\u001b[0;34m'authType'\u001b[0m\u001b[0;34m:\u001b[0m \u001b[0;34m'dfs_ephemeral'\u001b[0m\u001b[0;34m}\u001b[0m\u001b[0;34m,\u001b[0m \u001b[0mtimeout_sec\u001b[0m\u001b[0;34m=\u001b[0m\u001b[0;32mNone\u001b[0m\u001b[0;34m\u001b[0m\u001b[0;34m\u001b[0m\u001b[0m\n\u001b[1;32m    135\u001b[0m     )\n",
            "\u001b[0;32m/usr/local/lib/python3.10/dist-packages/google/colab/_message.py\u001b[0m in \u001b[0;36mblocking_request\u001b[0;34m(request_type, request, timeout_sec, parent)\u001b[0m\n\u001b[1;32m    174\u001b[0m       \u001b[0mrequest_type\u001b[0m\u001b[0;34m,\u001b[0m \u001b[0mrequest\u001b[0m\u001b[0;34m,\u001b[0m \u001b[0mparent\u001b[0m\u001b[0;34m=\u001b[0m\u001b[0mparent\u001b[0m\u001b[0;34m,\u001b[0m \u001b[0mexpect_reply\u001b[0m\u001b[0;34m=\u001b[0m\u001b[0;32mTrue\u001b[0m\u001b[0;34m\u001b[0m\u001b[0;34m\u001b[0m\u001b[0m\n\u001b[1;32m    175\u001b[0m   )\n\u001b[0;32m--> 176\u001b[0;31m   \u001b[0;32mreturn\u001b[0m \u001b[0mread_reply_from_input\u001b[0m\u001b[0;34m(\u001b[0m\u001b[0mrequest_id\u001b[0m\u001b[0;34m,\u001b[0m \u001b[0mtimeout_sec\u001b[0m\u001b[0;34m)\u001b[0m\u001b[0;34m\u001b[0m\u001b[0;34m\u001b[0m\u001b[0m\n\u001b[0m",
            "\u001b[0;32m/usr/local/lib/python3.10/dist-packages/google/colab/_message.py\u001b[0m in \u001b[0;36mread_reply_from_input\u001b[0;34m(message_id, timeout_sec)\u001b[0m\n\u001b[1;32m    101\u001b[0m     ):\n\u001b[1;32m    102\u001b[0m       \u001b[0;32mif\u001b[0m \u001b[0;34m'error'\u001b[0m \u001b[0;32min\u001b[0m \u001b[0mreply\u001b[0m\u001b[0;34m:\u001b[0m\u001b[0;34m\u001b[0m\u001b[0;34m\u001b[0m\u001b[0m\n\u001b[0;32m--> 103\u001b[0;31m         \u001b[0;32mraise\u001b[0m \u001b[0mMessageError\u001b[0m\u001b[0;34m(\u001b[0m\u001b[0mreply\u001b[0m\u001b[0;34m[\u001b[0m\u001b[0;34m'error'\u001b[0m\u001b[0;34m]\u001b[0m\u001b[0;34m)\u001b[0m\u001b[0;34m\u001b[0m\u001b[0;34m\u001b[0m\u001b[0m\n\u001b[0m\u001b[1;32m    104\u001b[0m       \u001b[0;32mreturn\u001b[0m \u001b[0mreply\u001b[0m\u001b[0;34m.\u001b[0m\u001b[0mget\u001b[0m\u001b[0;34m(\u001b[0m\u001b[0;34m'data'\u001b[0m\u001b[0;34m,\u001b[0m \u001b[0;32mNone\u001b[0m\u001b[0;34m)\u001b[0m\u001b[0;34m\u001b[0m\u001b[0;34m\u001b[0m\u001b[0m\n\u001b[1;32m    105\u001b[0m \u001b[0;34m\u001b[0m\u001b[0m\n",
            "\u001b[0;31mMessageError\u001b[0m: Error: credential propagation was unsuccessful"
          ]
        }
      ],
      "source": [
        "from google.colab import drive\n",
        "drive.mount('/content/drive')"
      ]
    },
    {
      "cell_type": "code",
      "execution_count": null,
      "metadata": {
        "id": "M0hQosLA1wLn"
      },
      "outputs": [],
      "source": [
        "from sklearn.feature_extraction.text import CountVectorizer\n",
        "from sklearn.ensemble import RandomForestClassifier\n",
        "from sklearn.pipeline import Pipeline\n",
        "from sklearn.metrics import classification_report\n",
        "from sklearn.model_selection import train_test_split, RandomizedSearchCV\n",
        "from scipy.stats import randint\n",
        "from sklearn.feature_extraction.text import CountVectorizer\n",
        "from sklearn.naive_bayes import MultinomialNB\n",
        "from sklearn.pipeline import Pipeline\n",
        "from sklearn.metrics import classification_report\n",
        "from sklearn.model_selection import RandomizedSearchCV\n",
        "from scipy.stats import uniform\n",
        "from sklearn.feature_extraction.text import CountVectorizer\n",
        "from sklearn.tree import DecisionTreeClassifier\n",
        "from sklearn.pipeline import Pipeline\n",
        "from sklearn.metrics import classification_report\n",
        "from sklearn.model_selection import train_test_split, RandomizedSearchCV\n",
        "from scipy.stats import randint\n",
        "from sklearn.feature_extraction.text import CountVectorizer\n",
        "from sklearn.svm import SVC\n",
        "from sklearn.pipeline import Pipeline\n",
        "from sklearn.model_selection import RandomizedSearchCV\n",
        "from sklearn.metrics import classification_report\n",
        "from scipy.stats import randint\n",
        "from sklearn.metrics import make_scorer, f1_score"
      ]
    },
    {
      "cell_type": "code",
      "execution_count": null,
      "metadata": {
        "id": "AA2fxRKV9I3s"
      },
      "outputs": [],
      "source": [
        "import pandas as pd\n",
        "import numpy as np\n",
        "# Load CSV data\n",
        "def load_csv(filename):\n",
        "    data = pd.read_csv(filename)\n",
        "    return data\n",
        "\n",
        "\n",
        "# Load data\n",
        "# merged_data = load_csv('/content/drive/MyDrive/data_for_prediction.csv')\n",
        "merged_data = load_csv('/content/data_for_prediction.csv')\n",
        "\n",
        "# Create a copy of the DataFrame to avoid SettingWithCopyWarning\n",
        "data_for_prediction = merged_data.copy()\n",
        "\n",
        "# Map labels to binary format\n",
        "data_for_prediction['label_binary'] = np.where(data_for_prediction['label'] == 'd', 1, 0)"
      ]
    },
    {
      "cell_type": "markdown",
      "metadata": {
        "id": "vcexqE8ebE9o"
      },
      "source": [
        "##prep"
      ]
    },
    {
      "cell_type": "code",
      "execution_count": null,
      "metadata": {
        "id": "jjx3PFQb8_C5"
      },
      "outputs": [],
      "source": [
        "from sklearn.metrics import confusion_matrix, precision_score, recall_score, f1_score, accuracy_score\n",
        "import matplotlib.pyplot as plt\n",
        "import seaborn as sns\n",
        "def evaluate_imbalanced_metrics(y_true, y_pred):\n",
        "    \"\"\"\n",
        "    Evaluate classification metrics for imbalanced classes.\n",
        "\n",
        "    Args:\n",
        "    - y_true (array-like): True labels.\n",
        "    - y_pred (array-like): Predicted labels.\n",
        "\n",
        "    Returns:\n",
        "    - metrics_dict (dict): Dictionary containing evaluation metrics.\n",
        "    \"\"\"\n",
        "    # Calculate precision, recall, and F1-score\n",
        "    precision = precision_score(y_true, y_pred)\n",
        "    recall = recall_score(y_true, y_pred)\n",
        "    f1 = f1_score(y_true, y_pred)\n",
        "\n",
        "    # Calculate accuracy\n",
        "    accuracy = accuracy_score(y_true, y_pred)\n",
        "\n",
        "    # Calculate positive class ratio\n",
        "    pos_ratio = np.mean(y_true)\n",
        "\n",
        "    # Calculate balanced accuracy\n",
        "    balanced_accuracy = (recall + (1 - pos_ratio)) / 2\n",
        "\n",
        "    # Calculate confusion matrix\n",
        "    cm = confusion_matrix(y_true, y_pred)\n",
        "\n",
        "    # Plot confusion matrix\n",
        "    plt.figure(figsize=(8, 6))\n",
        "    sns.heatmap(cm, annot=True, fmt='d', cmap='Blues',\n",
        "                xticklabels=['Negative', 'Positive'],\n",
        "                yticklabels=['Negative', 'Positive'])\n",
        "    plt.xlabel('Predicted labels')\n",
        "    plt.ylabel('True labels')\n",
        "    plt.title('Confusion Matrix')\n",
        "    plt.show()\n",
        "\n",
        "    # Create dictionary to store metrics\n",
        "    metrics_dict = {\n",
        "        'Precision': precision,\n",
        "        'Recall': recall,\n",
        "        'F1-score': f1,\n",
        "        'Accuracy': accuracy,\n",
        "        'Positive class ratio': pos_ratio,\n",
        "        'Balanced accuracy': balanced_accuracy\n",
        "    }\n",
        "\n",
        "    return metrics_dict\n"
      ]
    },
    {
      "cell_type": "code",
      "execution_count": null,
      "metadata": {
        "id": "oSZbR4h79fW6"
      },
      "outputs": [],
      "source": [
        "from sklearn.model_selection import train_test_split\n",
        "X_train , X_test, Y_train, Y_test =train_test_split(data_for_prediction[\"combined_text\"],data_for_prediction[\"label_binary\"],test_size=0.2, random_state=42)"
      ]
    },
    {
      "cell_type": "code",
      "execution_count": null,
      "metadata": {
        "id": "uZ1BUZn6EPDq"
      },
      "outputs": [],
      "source": [
        "from sklearn.metrics import make_scorer, f1_score\n",
        "scorer = make_scorer(f1_score)"
      ]
    },
    {
      "cell_type": "markdown",
      "metadata": {
        "id": "aIwWL6vG8cDX"
      },
      "source": [
        "##Naive bayes Classifier"
      ]
    },
    {
      "cell_type": "code",
      "execution_count": null,
      "metadata": {
        "colab": {
          "base_uri": "https://localhost:8080/",
          "height": 810
        },
        "id": "wZOpqjE5UK8C",
        "outputId": "30a6f743-2a34-404b-cf91-0fdb33ecb7cb"
      },
      "outputs": [
        {
          "name": "stdout",
          "output_type": "stream",
          "text": [
            "Fitting 5 folds for each of 10 candidates, totalling 50 fits\n",
            "Best Parameters (Randomized Search): {'classifier__alpha': 0.06545913276690207, 'vectorizer__ngram_range': (1, 4)}\n",
            "Classification Report (Randomized Search):\n",
            "              precision    recall  f1-score   support\n",
            "\n",
            "           0       0.86      0.91      0.89      8897\n",
            "           1       0.60      0.49      0.54      2488\n",
            "\n",
            "    accuracy                           0.82     11385\n",
            "   macro avg       0.73      0.70      0.71     11385\n",
            "weighted avg       0.81      0.82      0.81     11385\n",
            "\n"
          ]
        },
        {
          "data": {
            "image/png": "[encoded data removed]",
            "text/plain": [
              "<Figure size 800x600 with 2 Axes>"
            ]
          },
          "metadata": {},
          "output_type": "display_data"
        },
        {
          "name": "stdout",
          "output_type": "stream",
          "text": [
            "{'Precision': 0.59912109375, 'Recall': 0.49316720257234725, 'F1-score': 0.541005291005291, 'Accuracy': 0.8171277997364954, 'Positive class ratio': 0.21853315766359244, 'Balanced accuracy': 0.6373170224543774}\n"
          ]
        }
      ],
      "source": [
        "from sklearn.feature_extraction.text import CountVectorizer\n",
        "from sklearn.naive_bayes import MultinomialNB\n",
        "from sklearn.pipeline import Pipeline\n",
        "from sklearn.metrics import classification_report\n",
        "from sklearn.model_selection import RandomizedSearchCV\n",
        "from scipy.stats import uniform\n",
        "\n",
        "# Define the pipeline\n",
        "pipeline = Pipeline([\n",
        "    ('vectorizer', CountVectorizer()),  # Convert text data into feature vectors\n",
        "    ('classifier', MultinomialNB())     # Naive Bayes classifier\n",
        "])\n",
        "\n",
        "# Define hyperparameters distributions for randomized search\n",
        "param_dist = {\n",
        "    'vectorizer__ngram_range': [(1, 1), (1, 2), (1, 3), (1,4)],  # Unigrams or bigrams\n",
        "    'classifier__alpha': uniform(0, 1)                    # Uniform distribution between 0 and 1 for alpha\n",
        "}\n",
        "\n",
        "# Perform randomized search for hyperparameter tuning\n",
        "random_search = RandomizedSearchCV(pipeline, param_distributions=param_dist, n_iter=10, cv=5, scoring=scorer, verbose=1)\n",
        "random_search.fit(X_train, Y_train)\n",
        "\n",
        "# Print the best parameters found by randomized search\n",
        "print(\"Best Parameters (Randomized Search):\", random_search.best_params_)\n",
        "\n",
        "# Evaluate the tuned model on the test set\n",
        "predictions_random = random_search.predict(X_test)\n",
        "print(\"Classification Report (Randomized Search):\")\n",
        "print(classification_report(Y_test, predictions_random))\n",
        "metrics = evaluate_imbalanced_metrics(Y_test, predictions_random)\n",
        "print(metrics)"
      ]
    },
    {
      "cell_type": "markdown",
      "metadata": {
        "id": "vhL5M-5la5ee"
      },
      "source": [
        "##Decision Tree"
      ]
    },
    {
      "cell_type": "code",
      "execution_count": null,
      "metadata": {
        "id": "OL3kepn7Xpk0"
      },
      "outputs": [],
      "source": [
        "from sklearn.feature_extraction.text import CountVectorizer\n",
        "from sklearn.tree import DecisionTreeClassifier\n",
        "from sklearn.pipeline import Pipeline\n",
        "from sklearn.metrics import classification_report\n",
        "from sklearn.model_selection import train_test_split, RandomizedSearchCV\n",
        "from scipy.stats import randint\n",
        "\n",
        "# Split the data into training and testing sets\n",
        "X_train, X_test, Y_train, Y_test = train_test_split(data_for_prediction[\"combined_text\"], data_for_prediction[\"label_binary\"], test_size=0.2, random_state=42)\n",
        "\n",
        "# Define a pipeline with CountVectorizer and DecisionTreeClassifier\n",
        "pipeline_dt = Pipeline([\n",
        "    ('vectorizer', CountVectorizer()),        # Convert text data into feature vectors\n",
        "    ('classifier', DecisionTreeClassifier())  # Decision Tree classifier\n",
        "])\n",
        "\n",
        "# Define hyperparameters distributions for RandomizedSearchCV\n",
        "param_dist_dt = {\n",
        "    'vectorizer__ngram_range': [(1, 1), (1, 2), (1, 3), (1, 4)],  # Unigrams or bigrams\n",
        "    'classifier__max_depth': randint(10, 100),                  # Maximum depth of the tree\n",
        "    'classifier__min_samples_split': randint(2, 20),             # Minimum number of samples required to split an internal node\n",
        "    'classifier__min_samples_leaf': randint(1, 10)               # Minimum number of samples required to be at a leaf node\n",
        "}\n",
        "\n",
        "# Perform randomized search for hyperparameter tuning for Decision Tree classifier\n",
        "random_search_dt = RandomizedSearchCV(pipeline_dt, param_distributions=param_dist_dt, n_iter=5, cv=5, scoring=scorer, verbose=1, random_state=42)\n",
        "random_search_dt.fit(X_train, Y_train)\n",
        "\n",
        "# Print the best parameters found by randomized search for Decision Tree classifier\n",
        "print(\"Best Parameters (Decision Tree):\", random_search_dt.best_params_)\n",
        "\n",
        "# Evaluate the tuned Decision Tree model on the test set\n",
        "predictions_dt = random_search_dt.predict(X_test)\n",
        "print(\"Decision Tree Classifier:\")\n",
        "print(classification_report(Y_test, predictions_dt))\n",
        "metrics = evaluate_imbalanced_metrics(Y_test, predictions_dt)\n",
        "print(metrics)\n",
        "\n"
      ]
    },
    {
      "cell_type": "code",
      "execution_count": null,
      "metadata": {
        "colab": {
          "base_uri": "https://localhost:8080/"
        },
        "id": "zZCtJiUhnIUL",
        "outputId": "02c7b1f4-9bcb-451d-993e-6358fe56e4c1"
      },
      "outputs": [
        {
          "name": "stdout",
          "output_type": "stream",
          "text": [
            "Fitting 5 folds for each of 10 candidates, totalling 50 fits\n"
          ]
        }
      ],
      "source": [
        "from sklearn.feature_extraction.text import CountVectorizer\n",
        "from sklearn.svm import SVC\n",
        "from sklearn.pipeline import Pipeline\n",
        "from sklearn.model_selection import RandomizedSearchCV\n",
        "from sklearn.metrics import classification_report\n",
        "from scipy.stats import randint\n",
        "from sklearn.metrics import make_scorer, f1_score\n",
        "\n",
        "# Define a custom scorer if needed\n",
        "scorer = make_scorer(f1_score)\n",
        "\n",
        "# Define a pipeline with CountVectorizer and SVM\n",
        "pipeline_svm = Pipeline([\n",
        "    ('vectorizer', CountVectorizer()),  # Convert text data into feature vectors\n",
        "    ('classifier', SVC())               # Support Vector Machine classifier\n",
        "])\n",
        "\n",
        "# Define hyperparameters distributions for RandomizedSearchCV\n",
        "param_dist_svm = {\n",
        "    'vectorizer__ngram_range': [(1, 1), (1, 2), (1, 3)],   # Unigrams or bigrams\n",
        "    'classifier__C': randint(1, 100),                      # Regularization parameter\n",
        "    'classifier__kernel': ['linear', 'rbf'],               # Kernel type\n",
        "}\n",
        "\n",
        "# Perform randomized search for hyperparameter tuning for SVM classifier\n",
        "random_search_svm = RandomizedSearchCV(pipeline_svm, param_distributions=param_dist_svm, n_iter=10, cv=5, scoring=scorer, verbose=1, n_jobs=-1, random_state=42)\n",
        "random_search_svm.fit(X_train, Y_train)\n",
        "\n",
        "# Print the best parameters found by randomized search for SVM classifier\n",
        "print(\"Best Parameters (SVM):\", random_search_svm.best_params_)\n",
        "\n",
        "# Evaluate the tuned SVM model on the test set\n",
        "predictions_svm = random_search_svm.predict(X_test)\n",
        "print(\"SVM Classifier:\")\n",
        "print(classification_report(Y_test, predictions_svm))\n",
        "metrics = evaluate_imbalanced_metrics(Y_test, predictions_svm)\n",
        "print(metrics)\n",
        "\n"
      ]
    },
    {
      "cell_type": "code",
      "execution_count": null,
      "metadata": {
        "colab": {
          "background_save": true,
          "base_uri": "https://localhost:8080/"
        },
        "id": "vk-UIX4yaRNA",
        "outputId": "40af3a26-bd25-4619-f181-d1b7d918ebcc"
      },
      "outputs": [
        {
          "name": "stdout",
          "output_type": "stream",
          "text": [
            "Fitting 5 folds for each of 10 candidates, totalling 50 fits\n",
            "Best Parameters (Random Forest): {'classifier__max_depth': 98, 'classifier__min_samples_leaf': 1, 'classifier__min_samples_split': 28, 'classifier__n_estimators': 200, 'vectorizer__ngram_range': (1, 2)}\n",
            "Random Forest Classifier:\n",
            "              precision    recall  f1-score   support\n",
            "\n",
            "           0       0.78      1.00      0.88      8897\n",
            "           1       1.00      0.01      0.03      2488\n",
            "\n",
            "    accuracy                           0.78     11385\n",
            "   macro avg       0.89      0.51      0.45     11385\n",
            "weighted avg       0.83      0.78      0.69     11385\n",
            "\n"
          ]
        },
        {
          "data": {
            "image/png": "[encoded data removed]",
            "text/plain": [
              "<Figure size 800x600 with 2 Axes>"
            ]
          },
          "metadata": {},
          "output_type": "display_data"
        },
        {
          "name": "stdout",
          "output_type": "stream",
          "text": [
            "{'Precision': 1.0, 'Recall': 0.014067524115755627, 'F1-score': 0.02774474831549742, 'Accuracy': 0.7845410628019324, 'Positive class ratio': 0.21853315766359244, 'Balanced accuracy': 0.39776718322608157}\n"
          ]
        }
      ],
      "source": [
        "from sklearn.feature_extraction.text import CountVectorizer\n",
        "from sklearn.ensemble import RandomForestClassifier\n",
        "from sklearn.pipeline import Pipeline\n",
        "from sklearn.metrics import classification_report\n",
        "from sklearn.model_selection import train_test_split, RandomizedSearchCV\n",
        "from scipy.stats import randint\n",
        "\n",
        "# Define a pipeline with CountVectorizer and RandomForestClassifier\n",
        "pipeline_rf = Pipeline([\n",
        "    ('vectorizer', CountVectorizer()),          # Convert text data into feature vectors\n",
        "    ('classifier', RandomForestClassifier())    # Random Forest classifier\n",
        "])\n",
        "\n",
        "# Define hyperparameters distributions for RandomizedSearchCV\n",
        "param_dist_rf = {\n",
        "    'vectorizer__ngram_range': [(1, 1), (1, 2), (1, 3), (1, 4),(1,5)],  # Unigrams or bigrams\n",
        "    'classifier__n_estimators': [200, 300],         # Number of trees in the forest\n",
        "    'classifier__max_depth': randint(10, 100),        # Maximum depth of the trees\n",
        "    'classifier__min_samples_split': randint(2, 50), # Minimum number of samples required to split an internal node\n",
        "    'classifier__min_samples_leaf': randint(1, 10)   # Minimum number of samples required to be at a leaf node\n",
        "}\n",
        "\n",
        "# Perform randomized search for hyperparameter tuning for Random Forest classifier\n",
        "random_search_rf = RandomizedSearchCV(pipeline_rf, param_distributions=param_dist_rf, n_iter=10, cv=5, scoring=scorer, verbose=1, random_state=42)\n",
        "random_search_rf.fit(X_train, Y_train)\n",
        "\n",
        "# Print the best parameters found by randomized search for Random Forest classifier\n",
        "print(\"Best Parameters (Random Forest):\", random_search_rf.best_params_)\n",
        "\n",
        "# Evaluate the tuned Random Forest model on the test set\n",
        "predictions_rf = random_search_rf.predict(X_test)\n",
        "print(\"Random Forest Classifier:\")\n",
        "print(classification_report(Y_test, predictions_rf))\n",
        "metrics = evaluate_imbalanced_metrics(Y_test,predictions_rf)\n",
        "print(metrics)\n"
      ]
    },
    {
      "cell_type": "code",
      "execution_count": null,
      "metadata": {
        "colab": {
          "base_uri": "https://localhost:8080/",
          "height": 810
        },
        "id": "FcNe6Wu6Zq9m",
        "outputId": "8c8a7d9f-4242-4004-f005-be47314d8806"
      },
      "outputs": [
        {
          "name": "stdout",
          "output_type": "stream",
          "text": [
            "Fitting 3 folds for each of 5 candidates, totalling 15 fits\n",
            "Best Parameters (Gradient Boosting): {'n_estimators': 150, 'min_samples_split': 2, 'max_depth': 7, 'learning_rate': 0.2}\n",
            "Gradient Boosting Classifier:\n",
            "              precision    recall  f1-score   support\n",
            "\n",
            "           0       0.83      0.98      0.90      8897\n",
            "           1       0.77      0.27      0.40      2488\n",
            "\n",
            "    accuracy                           0.82     11385\n",
            "   macro avg       0.80      0.63      0.65     11385\n",
            "weighted avg       0.82      0.82      0.79     11385\n",
            "\n"
          ]
        },
        {
          "data": {
            "image/png": "[encoded data removed]",
            "text/plain": [
              "<Figure size 800x600 with 2 Axes>"
            ]
          },
          "metadata": {},
          "output_type": "display_data"
        },
        {
          "name": "stdout",
          "output_type": "stream",
          "text": [
            "{'Precision': 0.7701019252548131, 'Recall': 0.2733118971061093, 'F1-score': 0.4034411153960249, 'Accuracy': 0.8233640755379886, 'Positive class ratio': 0.21853315766359244, 'Balanced accuracy': 0.5273893697212584}\n"
          ]
        }
      ],
      "source": [
        "from sklearn.ensemble import GradientBoostingClassifier\n",
        "\n",
        "# Preprocess your text data\n",
        "vectorizer = CountVectorizer()\n",
        "X_train_vectorized = vectorizer.fit_transform(X_train)\n",
        "X_test_vectorized = vectorizer.transform(X_test)\n",
        "\n",
        "# Define the Gradient Boosting model\n",
        "gb_model = GradientBoostingClassifier()\n",
        "\n",
        "# Define hyperparameters distributions for randomized search\n",
        "param_dist_gb = {\n",
        "    'n_estimators': [50, 100, 150],\n",
        "    'learning_rate': [0.01, 0.1, 0.2],\n",
        "    'max_depth': [3, 5, 7],\n",
        "    'min_samples_split': [2, 5, 10],\n",
        "}\n",
        "\n",
        "# Perform randomized search for Gradient Boosting hyperparameter tuning\n",
        "random_search_gb = RandomizedSearchCV(estimator=gb_model, param_distributions=param_dist_gb, cv=3, scoring=scorer, verbose=1, n_iter=5)\n",
        "random_search_gb.fit(X_train_vectorized, Y_train)\n",
        "\n",
        "# Print the best parameters found by randomized search for Gradient Boosting\n",
        "print(\"Best Parameters (Gradient Boosting):\", random_search_gb.best_params_)\n",
        "\n",
        "# Predict on the test set using the best model from randomized search\n",
        "predictions_gb = random_search_gb.predict(X_test_vectorized)\n",
        "\n",
        "# Print classification report\n",
        "print(\"Gradient Boosting Classifier:\")\n",
        "print(classification_report(Y_test, predictions_gb))\n",
        "metrics = evaluate_imbalanced_metrics(Y_test,predictions_gb)\n",
        "print(metrics)\n"
      ]
    },
    {
      "cell_type": "code",
      "execution_count": null,
      "metadata": {
        "colab": {
          "base_uri": "https://localhost:8080/",
          "height": 1000
        },
        "id": "ZAkmlC6HZur2",
        "outputId": "5c548985-6a22-42e8-b8e0-8c031af8c4d8"
      },
      "outputs": [
        {
          "name": "stderr",
          "output_type": "stream",
          "text": [
            "Some weights of BertForSequenceClassification were not initialized from the model checkpoint at bert-base-uncased and are newly initialized: ['classifier.bias', 'classifier.weight']\n",
            "You should probably TRAIN this model on a down-stream task to be able to use it for predictions and inference.\n",
            "Truncation was not explicitly activated but `max_length` is provided a specific value, please use `truncation=True` to explicitly truncate examples to max length. Defaulting to 'longest_first' truncation strategy. If you encode pairs of sequences (GLUE-style) with the tokenizer you can select this strategy more precisely by providing a specific strategy to `truncation`.\n",
            "/usr/local/lib/python3.10/dist-packages/transformers/tokenization_utils_base.py:2674: FutureWarning: The `pad_to_max_length` argument is deprecated and will be removed in a future version, use `padding=True` or `padding='longest'` to pad to the longest sequence in the batch, or use `padding='max_length'` to pad to a max length. In this case, you can give a specific length with `max_length` (e.g. `max_length=45`) or leave max_length to None to pad to the maximal input size of the model (e.g. 512 for Bert).\n",
            "  warnings.warn(\n"
          ]
        },
        {
          "ename": "TypeError",
          "evalue": "Cannot clone object 'BertForSequenceClassification(\n  (bert): BertModel(\n    (embeddings): BertEmbeddings(\n      (word_embeddings): Embedding(30522, 768, padding_idx=0)\n      (position_embeddings): Embedding(512, 768)\n      (token_type_embeddings): Embedding(2, 768)\n      (LayerNorm): LayerNorm((768,), eps=1e-12, elementwise_affine=True)\n      (dropout): Dropout(p=0.1, inplace=False)\n    )\n    (encoder): BertEncoder(\n      (layer): ModuleList(\n        (0-11): 12 x BertLayer(\n          (attention): BertAttention(\n            (self): BertSelfAttention(\n              (query): Linear(in_features=768, out_features=768, bias=True)\n              (key): Linear(in_features=768, out_features=768, bias=True)\n              (value): Linear(in_features=768, out_features=768, bias=True)\n              (dropout): Dropout(p=0.1, inplace=False)\n            )\n            (output): BertSelfOutput(\n              (dense): Linear(in_features=768, out_features=768, bias=True)\n              (LayerNorm): LayerNorm((768,), eps=1e-12, elementwise_affine=True)\n              (dropout): Dropout(p=0.1, inplace=False)\n            )\n          )\n          (intermediate): BertIntermediate(\n            (dense): Linear(in_features=768, out_features=3072, bias=True)\n            (intermediate_act_fn): GELUActivation()\n          )\n          (output): BertOutput(\n            (dense): Linear(in_features=3072, out_features=768, bias=True)\n            (LayerNorm): LayerNorm((768,), eps=1e-12, elementwise_affine=True)\n            (dropout): Dropout(p=0.1, inplace=False)\n          )\n        )\n      )\n    )\n    (pooler): BertPooler(\n      (dense): Linear(in_features=768, out_features=768, bias=True)\n      (activation): Tanh()\n    )\n  )\n  (dropout): Dropout(p=0.1, inplace=False)\n  (classifier): Linear(in_features=768, out_features=2, bias=True)\n)' (type <class 'transformers.models.bert.modeling_bert.BertForSequenceClassification'>): it does not seem to be a scikit-learn estimator as it does not implement a 'get_params' method.",
          "output_type": "error",
          "traceback": [
            "\u001b[0;31m---------------------------------------------------------------------------\u001b[0m",
            "\u001b[0;31mTypeError\u001b[0m                                 Traceback (most recent call last)",
            "\u001b[0;32m<ipython-input-7-b787bce27c51>\u001b[0m in \u001b[0;36m<cell line: 32>\u001b[0;34m()\u001b[0m\n\u001b[1;32m     30\u001b[0m \u001b[0;31m# Perform randomized search for BERT hyperparameter tuning\u001b[0m\u001b[0;34m\u001b[0m\u001b[0;34m\u001b[0m\u001b[0m\n\u001b[1;32m     31\u001b[0m \u001b[0mrandom_search_bert\u001b[0m \u001b[0;34m=\u001b[0m \u001b[0mRandomizedSearchCV\u001b[0m\u001b[0;34m(\u001b[0m\u001b[0mestimator\u001b[0m\u001b[0;34m=\u001b[0m\u001b[0mmodel\u001b[0m\u001b[0;34m,\u001b[0m \u001b[0mparam_distributions\u001b[0m\u001b[0;34m=\u001b[0m\u001b[0mparam_dist_bert\u001b[0m\u001b[0;34m,\u001b[0m \u001b[0mcv\u001b[0m\u001b[0;34m=\u001b[0m\u001b[0;36m3\u001b[0m\u001b[0;34m,\u001b[0m \u001b[0mscoring\u001b[0m\u001b[0;34m=\u001b[0m\u001b[0mscorer\u001b[0m\u001b[0;34m,\u001b[0m \u001b[0mverbose\u001b[0m\u001b[0;34m=\u001b[0m\u001b[0;36m1\u001b[0m\u001b[0;34m,\u001b[0m \u001b[0mn_iter\u001b[0m\u001b[0;34m=\u001b[0m\u001b[0;36m5\u001b[0m\u001b[0;34m)\u001b[0m\u001b[0;34m\u001b[0m\u001b[0;34m\u001b[0m\u001b[0m\n\u001b[0;32m---> 32\u001b[0;31m \u001b[0mrandom_search_bert\u001b[0m\u001b[0;34m.\u001b[0m\u001b[0mfit\u001b[0m\u001b[0;34m(\u001b[0m\u001b[0mX_train_input_ids\u001b[0m\u001b[0;34m,\u001b[0m \u001b[0mY_train\u001b[0m\u001b[0;34m)\u001b[0m\u001b[0;34m\u001b[0m\u001b[0;34m\u001b[0m\u001b[0m\n\u001b[0m\u001b[1;32m     33\u001b[0m \u001b[0;34m\u001b[0m\u001b[0m\n\u001b[1;32m     34\u001b[0m \u001b[0;31m# Print the best parameters found by randomized search for BERT\u001b[0m\u001b[0;34m\u001b[0m\u001b[0;34m\u001b[0m\u001b[0m\n",
            "\u001b[0;32m/usr/local/lib/python3.10/dist-packages/sklearn/model_selection/_search.py\u001b[0m in \u001b[0;36mfit\u001b[0;34m(self, X, y, groups, **fit_params)\u001b[0m\n\u001b[1;32m    786\u001b[0m         \u001b[0mn_splits\u001b[0m \u001b[0;34m=\u001b[0m \u001b[0mcv_orig\u001b[0m\u001b[0;34m.\u001b[0m\u001b[0mget_n_splits\u001b[0m\u001b[0;34m(\u001b[0m\u001b[0mX\u001b[0m\u001b[0;34m,\u001b[0m \u001b[0my\u001b[0m\u001b[0;34m,\u001b[0m \u001b[0mgroups\u001b[0m\u001b[0;34m)\u001b[0m\u001b[0;34m\u001b[0m\u001b[0;34m\u001b[0m\u001b[0m\n\u001b[1;32m    787\u001b[0m \u001b[0;34m\u001b[0m\u001b[0m\n\u001b[0;32m--> 788\u001b[0;31m         \u001b[0mbase_estimator\u001b[0m \u001b[0;34m=\u001b[0m \u001b[0mclone\u001b[0m\u001b[0;34m(\u001b[0m\u001b[0mself\u001b[0m\u001b[0;34m.\u001b[0m\u001b[0mestimator\u001b[0m\u001b[0;34m)\u001b[0m\u001b[0;34m\u001b[0m\u001b[0;34m\u001b[0m\u001b[0m\n\u001b[0m\u001b[1;32m    789\u001b[0m \u001b[0;34m\u001b[0m\u001b[0m\n\u001b[1;32m    790\u001b[0m         \u001b[0mparallel\u001b[0m \u001b[0;34m=\u001b[0m \u001b[0mParallel\u001b[0m\u001b[0;34m(\u001b[0m\u001b[0mn_jobs\u001b[0m\u001b[0;34m=\u001b[0m\u001b[0mself\u001b[0m\u001b[0;34m.\u001b[0m\u001b[0mn_jobs\u001b[0m\u001b[0;34m,\u001b[0m \u001b[0mpre_dispatch\u001b[0m\u001b[0;34m=\u001b[0m\u001b[0mself\u001b[0m\u001b[0;34m.\u001b[0m\u001b[0mpre_dispatch\u001b[0m\u001b[0;34m)\u001b[0m\u001b[0;34m\u001b[0m\u001b[0;34m\u001b[0m\u001b[0m\n",
            "\u001b[0;32m/usr/local/lib/python3.10/dist-packages/sklearn/base.py\u001b[0m in \u001b[0;36mclone\u001b[0;34m(estimator, safe)\u001b[0m\n\u001b[1;32m     77\u001b[0m                 )\n\u001b[1;32m     78\u001b[0m             \u001b[0;32melse\u001b[0m\u001b[0;34m:\u001b[0m\u001b[0;34m\u001b[0m\u001b[0;34m\u001b[0m\u001b[0m\n\u001b[0;32m---> 79\u001b[0;31m                 raise TypeError(\n\u001b[0m\u001b[1;32m     80\u001b[0m                     \u001b[0;34m\"Cannot clone object '%s' (type %s): \"\u001b[0m\u001b[0;34m\u001b[0m\u001b[0;34m\u001b[0m\u001b[0m\n\u001b[1;32m     81\u001b[0m                     \u001b[0;34m\"it does not seem to be a scikit-learn \"\u001b[0m\u001b[0;34m\u001b[0m\u001b[0;34m\u001b[0m\u001b[0m\n",
            "\u001b[0;31mTypeError\u001b[0m: Cannot clone object 'BertForSequenceClassification(\n  (bert): BertModel(\n    (embeddings): BertEmbeddings(\n      (word_embeddings): Embedding(30522, 768, padding_idx=0)\n      (position_embeddings): Embedding(512, 768)\n      (token_type_embeddings): Embedding(2, 768)\n      (LayerNorm): LayerNorm((768,), eps=1e-12, elementwise_affine=True)\n      (dropout): Dropout(p=0.1, inplace=False)\n    )\n    (encoder): BertEncoder(\n      (layer): ModuleList(\n        (0-11): 12 x BertLayer(\n          (attention): BertAttention(\n            (self): BertSelfAttention(\n              (query): Linear(in_features=768, out_features=768, bias=True)\n              (key): Linear(in_features=768, out_features=768, bias=True)\n              (value): Linear(in_features=768, out_features=768, bias=True)\n              (dropout): Dropout(p=0.1, inplace=False)\n            )\n            (output): BertSelfOutput(\n              (dense): Linear(in_features=768, out_features=768, bias=True)\n              (LayerNorm): LayerNorm((768,), eps=1e-12, elementwise_affine=True)\n              (dropout): Dropout(p=0.1, inplace=False)\n            )\n          )\n          (intermediate): BertIntermediate(\n            (dense): Linear(in_features=768, out_features=3072, bias=True)\n            (intermediate_act_fn): GELUActivation()\n          )\n          (output): BertOutput(\n            (dense): Linear(in_features=3072, out_features=768, bias=True)\n            (LayerNorm): LayerNorm((768,), eps=1e-12, elementwise_affine=True)\n            (dropout): Dropout(p=0.1, inplace=False)\n          )\n        )\n      )\n    )\n    (pooler): BertPooler(\n      (dense): Linear(in_features=768, out_features=768, bias=True)\n      (activation): Tanh()\n    )\n  )\n  (dropout): Dropout(p=0.1, inplace=False)\n  (classifier): Linear(in_features=768, out_features=2, bias=True)\n)' (type <class 'transformers.models.bert.modeling_bert.BertForSequenceClassification'>): it does not seem to be a scikit-learn estimator as it does not implement a 'get_params' method."
          ]
        }
      ],
      "source": [
        "from sklearn.model_selection import RandomizedSearchCV\n",
        "from transformers import BertTokenizer, BertForSequenceClassification\n",
        "from sklearn.metrics import accuracy_score\n",
        "import torch\n",
        "\n",
        "# Load pre-trained BERT model and tokenizer\n",
        "tokenizer = BertTokenizer.from_pretrained('bert-base-uncased')\n",
        "model = BertForSequenceClassification.from_pretrained('bert-base-uncased')\n",
        "\n",
        "# Define function to tokenize and encode text data for BERT\n",
        "def tokenize_and_encode(texts):\n",
        "    input_ids = []\n",
        "    attention_masks = []\n",
        "    for text in texts:\n",
        "        encoded_dict = tokenizer.encode_plus(text, add_special_tokens=True, max_length=128, pad_to_max_length=True, return_attention_mask=True, return_tensors='pt')\n",
        "        input_ids.append(encoded_dict['input_ids'])\n",
        "        attention_masks.append(encoded_dict['attention_mask'])\n",
        "    return torch.cat(input_ids, dim=0), torch.cat(attention_masks, dim=0)\n",
        "\n",
        "# Tokenize and encode training data\n",
        "X_train_input_ids, X_train_attention_masks = tokenize_and_encode(X_train)\n",
        "\n",
        "# Define hyperparameters distributions for randomized search\n",
        "param_dist_bert = {\n",
        "    'num_train_epochs': [2, 3, 4],\n",
        "    'learning_rate': [2e-5, 3e-5, 5e-5],\n",
        "    'per_device_train_batch_size': [8, 16, 32],\n",
        "}\n",
        "\n",
        "# Perform randomized search for BERT hyperparameter tuning\n",
        "random_search_bert = RandomizedSearchCV(estimator=model, param_distributions=param_dist_bert, cv=3, scoring=scorer, verbose=1, n_iter=5)\n",
        "random_search_bert.fit(X_train_input_ids, Y_train)\n",
        "\n",
        "# Print the best parameters found by randomized search for BERT\n",
        "print(\"Best Parameters (BERT):\", random_search_bert.best_params_)\n",
        "\n",
        "predictions_bert = random_search_bert.predict(X_test)\n",
        "print(\"Bert:\")\n",
        "print(classification_report(Y_test, predictions_bert))\n",
        "metrics = evaluate_imbalanced_metrics(Y_test,predictions_bert)\n",
        "print(metrics)\n"
      ]
    },
    {
      "cell_type": "code",
      "execution_count": null,
      "metadata": {
        "colab": {
          "background_save": true,
          "base_uri": "https://localhost:8080/"
        },
        "id": "27OJfmcfWj1G",
        "outputId": "619ddd61-c05a-4adc-eb72-756afe8bf0a3"
      },
      "outputs": [
        {
          "name": "stderr",
          "output_type": "stream",
          "text": [
            "Some weights of BertForSequenceClassification were not initialized from the model checkpoint at bert-base-uncased and are newly initialized: ['classifier.bias', 'classifier.weight']\n",
            "You should probably TRAIN this model on a down-stream task to be able to use it for predictions and inference.\n",
            "Some weights of BertForSequenceClassification were not initialized from the model checkpoint at bert-base-uncased and are newly initialized: ['classifier.bias', 'classifier.weight']\n",
            "You should probably TRAIN this model on a down-stream task to be able to use it for predictions and inference.\n"
          ]
        },
        {
          "name": "stdout",
          "output_type": "stream",
          "text": [
            "Fitting 3 folds for each of 5 candidates, totalling 15 fits\n"
          ]
        },
        {
          "name": "stderr",
          "output_type": "stream",
          "text": [
            "Some weights of BertForSequenceClassification were not initialized from the model checkpoint at bert-base-uncased and are newly initialized: ['classifier.bias', 'classifier.weight']\n",
            "You should probably TRAIN this model on a down-stream task to be able to use it for predictions and inference.\n",
            "Truncation was not explicitly activated but `max_length` is provided a specific value, please use `truncation=True` to explicitly truncate examples to max length. Defaulting to 'longest_first' truncation strategy. If you encode pairs of sequences (GLUE-style) with the tokenizer you can select this strategy more precisely by providing a specific strategy to `truncation`.\n",
            "/usr/local/lib/python3.10/dist-packages/transformers/tokenization_utils_base.py:2674: FutureWarning: The `pad_to_max_length` argument is deprecated and will be removed in a future version, use `padding=True` or `padding='longest'` to pad to the longest sequence in the batch, or use `padding='max_length'` to pad to a max length. In this case, you can give a specific length with `max_length` (e.g. `max_length=45`) or leave max_length to None to pad to the maximal input size of the model (e.g. 512 for Bert).\n",
            "  warnings.warn(\n"
          ]
        }
      ],
      "source": [
        "from sklearn.model_selection import RandomizedSearchCV\n",
        "from transformers import BertTokenizer, BertForSequenceClassification\n",
        "from sklearn.metrics import accuracy_score\n",
        "from sklearn.base import BaseEstimator\n",
        "from sklearn.metrics import make_scorer\n",
        "from sklearn.pipeline import Pipeline\n",
        "import torch\n",
        "\n",
        "# Define a custom BERT estimator compatible with scikit-learn\n",
        "class BertEstimator(BaseEstimator):\n",
        "    def __init__(self, num_train_epochs=3, learning_rate=3e-5, per_device_train_batch_size=16):\n",
        "        self.num_train_epochs = num_train_epochs\n",
        "        self.learning_rate = learning_rate\n",
        "        self.per_device_train_batch_size = per_device_train_batch_size\n",
        "        self.model = BertForSequenceClassification.from_pretrained('bert-base-uncased')\n",
        "        self.tokenizer = BertTokenizer.from_pretrained('bert-base-uncased')\n",
        "\n",
        "    def fit(self, X, y):\n",
        "        # Tokenize and encode training data\n",
        "        train_input_ids, train_attention_masks = self.tokenize_and_encode(X)\n",
        "        train_labels = torch.tensor(y)\n",
        "\n",
        "        # Define optimizer and loss function\n",
        "        optimizer = torch.optim.AdamW(self.model.parameters(), lr=self.learning_rate)\n",
        "        loss_fn = torch.nn.CrossEntropyLoss()\n",
        "\n",
        "        # Train the model\n",
        "        for epoch in range(self.num_train_epochs):\n",
        "            self.model.train()\n",
        "            for i in range(0, len(X), self.per_device_train_batch_size):\n",
        "                optimizer.zero_grad()\n",
        "                batch_input_ids = train_input_ids[i:i+self.per_device_train_batch_size]\n",
        "                batch_attention_masks = train_attention_masks[i:i+self.per_device_train_batch_size]\n",
        "                batch_labels = train_labels[i:i+self.per_device_train_batch_size]\n",
        "                outputs = self.model(input_ids=batch_input_ids, attention_mask=batch_attention_masks, labels=batch_labels)\n",
        "                loss = outputs.loss\n",
        "                loss.backward()\n",
        "                optimizer.step()\n",
        "\n",
        "    def predict(self, X):\n",
        "        # Tokenize and encode test data\n",
        "        test_input_ids, test_attention_masks = self.tokenize_and_encode(X)\n",
        "\n",
        "        # Predict labels\n",
        "        self.model.eval()\n",
        "        with torch.no_grad():\n",
        "            outputs = self.model(input_ids=test_input_ids, attention_mask=test_attention_masks)\n",
        "            logits = outputs.logits\n",
        "            predicted_labels = torch.argmax(logits, dim=1)\n",
        "        return predicted_labels\n",
        "\n",
        "    def tokenize_and_encode(self, texts):\n",
        "        input_ids = []\n",
        "        attention_masks = []\n",
        "        for text in texts:\n",
        "            encoded_dict = self.tokenizer.encode_plus(text, add_special_tokens=True, max_length=128, pad_to_max_length=True, return_attention_mask=True, return_tensors='pt')\n",
        "            input_ids.append(encoded_dict['input_ids'])\n",
        "            attention_masks.append(encoded_dict['attention_mask'])\n",
        "        return torch.cat(input_ids, dim=0), torch.cat(attention_masks, dim=0)\n",
        "\n",
        "# Create a pipeline with the BERT estimator\n",
        "pipeline = Pipeline([\n",
        "    ('bert', BertEstimator()),\n",
        "])\n",
        "\n",
        "# Define hyperparameters distributions for randomized search\n",
        "param_dist_bert = {\n",
        "    'bert__num_train_epochs': [2, 3, 4],\n",
        "    'bert__learning_rate': [2e-5, 3e-5, 5e-5],\n",
        "    'bert__per_device_train_batch_size': [8, 16, 32],\n",
        "}\n",
        "\n",
        "# Define a custom scorer for accuracy\n",
        "def custom_scorer(y_true, y_pred):\n",
        "    return accuracy_score(y_true, y_pred)\n",
        "\n",
        "scorer = make_scorer(custom_scorer)\n",
        "\n",
        "import numpy as np\n",
        "\n",
        "# Convert Y_train to a numpy array\n",
        "Y_train_array = np.array(Y_train)\n",
        "\n",
        "# Reset indices of X_train and Y_train\n",
        "X_train_reset = X_train.reset_index(drop=True)\n",
        "Y_train_reset = Y_train.reset_index(drop=True)\n",
        "\n",
        "# Perform randomized search for BERT hyperparameter tuning\n",
        "random_search_bert = RandomizedSearchCV(estimator=pipeline, param_distributions=param_dist_bert, cv=3, scoring=scorer, verbose=1, n_iter=5)\n",
        "random_search_bert.fit(X_train_reset, Y_train_array)\n",
        "\n",
        "# Print the best parameters found by randomized search for BERT\n",
        "print(\"Best Parameters (BERT):\", random_search_bert.best_params_)\n",
        "\n",
        "predictions_bert = random_search_bert.predict(X_test)\n",
        "print(\"Bert:\")\n",
        "print(classification_report(Y_test, predictions_bert))\n",
        "metrics = evaluate_imbalanced_metrics(Y_test, predictions_bert)\n",
        "print(metrics)\n",
        "\n",
        "\n",
        "# # Perform randomized search for BERT hyperparameter tuning\n",
        "# random_search_bert = RandomizedSearchCV(estimator=pipeline, param_distributions=param_dist_bert, cv=3, scoring=scorer, verbose=1, n_iter=5)\n",
        "# random_search_bert.fit(X_train, Y_train)\n",
        "\n",
        "# # Print the best parameters found by randomized search for BERT\n",
        "# print(\"Best Parameters (BERT):\", random_search_bert.best_params_)\n",
        "\n",
        "# predictions_bert = random_search_bert.predict(X_test)\n",
        "# print(\"Bert:\")\n",
        "# print(classification_report(Y_test, predictions_bert))\n",
        "# metrics = evaluate_imbalanced_metrics(Y_test, predictions_bert)\n",
        "# print(metrics)\n"
      ]
    }
  ],
  "metadata": {
    "accelerator": "GPU",
    "colab": {
      "gpuType": "A100",
      "machine_shape": "hm",
      "provenance": []
    },
    "kernelspec": {
      "display_name": "Python 3",
      "name": "python3"
    },
    "language_info": {
      "name": "python"
    }
  },
  "nbformat": 4,
  "nbformat_minor": 0
}